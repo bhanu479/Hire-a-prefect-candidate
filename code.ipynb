{
 "cells": [
  {
   "cell_type": "code",
   "execution_count": 1,
   "metadata": {},
   "outputs": [],
   "source": [
    "import pandas as pd\n",
    "import os"
   ]
  },
  {
   "cell_type": "code",
   "execution_count": 2,
   "metadata": {},
   "outputs": [
    {
     "name": "stdout",
     "output_type": "stream",
     "text": [
      "Requirement already satisfied: tika in c:\\users\\shekh\\anaconda3\\lib\\site-packages (1.24)\n",
      "Requirement already satisfied: requests in c:\\users\\shekh\\anaconda3\\lib\\site-packages (from tika) (2.22.0)\n",
      "Requirement already satisfied: setuptools in c:\\users\\shekh\\anaconda3\\lib\\site-packages (from tika) (45.2.0.post20200210)\n",
      "Requirement already satisfied: certifi>=2017.4.17 in c:\\users\\shekh\\anaconda3\\lib\\site-packages (from requests->tika) (2019.11.28)\n",
      "Requirement already satisfied: urllib3!=1.25.0,!=1.25.1,<1.26,>=1.21.1 in c:\\users\\shekh\\anaconda3\\lib\\site-packages (from requests->tika) (1.25.8)\n",
      "Requirement already satisfied: idna<2.9,>=2.5 in c:\\users\\shekh\\anaconda3\\lib\\site-packages (from requests->tika) (2.8)\n",
      "Requirement already satisfied: chardet<3.1.0,>=3.0.2 in c:\\users\\shekh\\anaconda3\\lib\\site-packages (from requests->tika) (3.0.4)\n"
     ]
    }
   ],
   "source": [
    "!pip install tika"
   ]
  },
  {
   "cell_type": "code",
   "execution_count": 3,
   "metadata": {},
   "outputs": [
    {
     "name": "stderr",
     "output_type": "stream",
     "text": [
      "2021-09-02 17:46:51,573 [MainThread  ] [WARNI]  Failed to see startup log message; retrying...\n"
     ]
    },
    {
     "data": {
      "text/html": [
       "<div>\n",
       "<style scoped>\n",
       "    .dataframe tbody tr th:only-of-type {\n",
       "        vertical-align: middle;\n",
       "    }\n",
       "\n",
       "    .dataframe tbody tr th {\n",
       "        vertical-align: top;\n",
       "    }\n",
       "\n",
       "    .dataframe thead th {\n",
       "        text-align: right;\n",
       "    }\n",
       "</style>\n",
       "<table border=\"1\" class=\"dataframe\">\n",
       "  <thead>\n",
       "    <tr style=\"text-align: right;\">\n",
       "      <th></th>\n",
       "      <th>CandidateID</th>\n",
       "      <th>resume</th>\n",
       "      <th>cleaned_resume</th>\n",
       "    </tr>\n",
       "  </thead>\n",
       "  <tbody>\n",
       "    <tr>\n",
       "      <th>0</th>\n",
       "      <td>candidate_000</td>\n",
       "      <td>JACOB SMITH F R E S H E R  SKILLS  Python, S...</td>\n",
       "      <td></td>\n",
       "    </tr>\n",
       "    <tr>\n",
       "      <th>1</th>\n",
       "      <td>candidate_001</td>\n",
       "      <td>Brianna Williams J U N I O R  D E V E L O P ...</td>\n",
       "      <td></td>\n",
       "    </tr>\n",
       "    <tr>\n",
       "      <th>2</th>\n",
       "      <td>candidate_002</td>\n",
       "      <td>AMZ Loans and Mortgages ERC Analytics, Jun 2...</td>\n",
       "      <td></td>\n",
       "    </tr>\n",
       "    <tr>\n",
       "      <th>3</th>\n",
       "      <td>candidate_003</td>\n",
       "      <td>P R O F I L E  Extremely motivated to consta...</td>\n",
       "      <td></td>\n",
       "    </tr>\n",
       "    <tr>\n",
       "      <th>4</th>\n",
       "      <td>candidate_006</td>\n",
       "      <td>JENNIFER ARMSTRONG  P R O F I L E Fresher Co...</td>\n",
       "      <td></td>\n",
       "    </tr>\n",
       "    <tr>\n",
       "      <th>...</th>\n",
       "      <td>...</td>\n",
       "      <td>...</td>\n",
       "      <td>...</td>\n",
       "    </tr>\n",
       "    <tr>\n",
       "      <th>85</th>\n",
       "      <td>candidate_144</td>\n",
       "      <td>BENJAMIN OSTA  F R E S H E R  D E V E L O P ...</td>\n",
       "      <td></td>\n",
       "    </tr>\n",
       "    <tr>\n",
       "      <th>86</th>\n",
       "      <td>candidate_145</td>\n",
       "      <td>Coca-COla  Big Data Analyst, Nov 2019 to Til...</td>\n",
       "      <td></td>\n",
       "    </tr>\n",
       "    <tr>\n",
       "      <th>87</th>\n",
       "      <td>candidate_147</td>\n",
       "      <td>Jaroslav Chechnik F R E SHER  Executive Prof...</td>\n",
       "      <td></td>\n",
       "    </tr>\n",
       "    <tr>\n",
       "      <th>88</th>\n",
       "      <td>candidate_148</td>\n",
       "      <td>P R O F I L E  A data science professional w...</td>\n",
       "      <td></td>\n",
       "    </tr>\n",
       "    <tr>\n",
       "      <th>89</th>\n",
       "      <td>candidate_149</td>\n",
       "      <td>MIRAD YASTEIN A N A L Y S T  I N T E R N  SK...</td>\n",
       "      <td></td>\n",
       "    </tr>\n",
       "  </tbody>\n",
       "</table>\n",
       "<p>90 rows × 3 columns</p>\n",
       "</div>"
      ],
      "text/plain": [
       "      CandidateID                                             resume  \\\n",
       "0   candidate_000    JACOB SMITH F R E S H E R  SKILLS  Python, S...   \n",
       "1   candidate_001    Brianna Williams J U N I O R  D E V E L O P ...   \n",
       "2   candidate_002    AMZ Loans and Mortgages ERC Analytics, Jun 2...   \n",
       "3   candidate_003    P R O F I L E  Extremely motivated to consta...   \n",
       "4   candidate_006    JENNIFER ARMSTRONG  P R O F I L E Fresher Co...   \n",
       "..            ...                                                ...   \n",
       "85  candidate_144    BENJAMIN OSTA  F R E S H E R  D E V E L O P ...   \n",
       "86  candidate_145    Coca-COla  Big Data Analyst, Nov 2019 to Til...   \n",
       "87  candidate_147    Jaroslav Chechnik F R E SHER  Executive Prof...   \n",
       "88  candidate_148    P R O F I L E  A data science professional w...   \n",
       "89  candidate_149    MIRAD YASTEIN A N A L Y S T  I N T E R N  SK...   \n",
       "\n",
       "   cleaned_resume  \n",
       "0                  \n",
       "1                  \n",
       "2                  \n",
       "3                  \n",
       "4                  \n",
       "..            ...  \n",
       "85                 \n",
       "86                 \n",
       "87                 \n",
       "88                 \n",
       "89                 \n",
       "\n",
       "[90 rows x 3 columns]"
      ]
     },
     "execution_count": 3,
     "metadata": {},
     "output_type": "execute_result"
    }
   ],
   "source": [
    "from tika import parser \n",
    "df = pd.DataFrame(columns = ['CandidateID', 'resume', 'cleaned_resume'])\n",
    "for dirname, _, filenames in os.walk('./trainResumes'):\n",
    "    for filename in filenames:\n",
    "        path = os.path.join(dirname, filename)\n",
    "        raw = parser.from_file(path)\n",
    "        df = df.append({'CandidateID' : filename[:-4], 'resume' : \" \".join(raw['content'].strip().split('\\n')[1:]), 'cleaned_resume' : \"\"}, \n",
    "                ignore_index = True)\n",
    "df"
   ]
  },
  {
   "cell_type": "code",
   "execution_count": 4,
   "metadata": {},
   "outputs": [
    {
     "data": {
      "text/plain": [
       "'  JENNIFER ARMSTRONG  P R O F I L E Fresher Computer vision and Machine Learning  Engineer looking for a job that is both challenging  and fun in terms of problem-solving. Also an expert  in maintaining and managing Tableau and Power BI  dashboards to address business.  S K I L L S  Machine learning, Deep learning,  Computer vision, Image processing,  Neural networks, Contextual Reasoning.  E X P E R I E N C E  Currently No Professional Experience  E D U C A T I O N  B.Tech Computer Science from IIT Guwahati, 2021  C O M P U T E R  V I S I O N  E N T H U S I A S T  A C T I V I T I E S  Distinction medalist.   Honorary member of Student Council for  innovation.   Innovator of the year runner up at I IT  Conjugation.   P R O J E C T S  Understanding images   GAN based modern fashion portal  Corporate Attendance using Face  Recognition'"
      ]
     },
     "execution_count": 4,
     "metadata": {},
     "output_type": "execute_result"
    }
   ],
   "source": [
    "df.resume[4]"
   ]
  },
  {
   "cell_type": "code",
   "execution_count": 5,
   "metadata": {},
   "outputs": [
    {
     "name": "stdout",
     "output_type": "stream",
     "text": [
      "\n"
     ]
    }
   ],
   "source": [
    "print (df['cleaned_resume'][4])"
   ]
  },
  {
   "cell_type": "code",
   "execution_count": 6,
   "metadata": {},
   "outputs": [],
   "source": [
    "import numpy as np\n",
    "import pandas as pd\n",
    "import matplotlib.pyplot as plt\n",
    "import warnings\n",
    "warnings.filterwarnings('ignore')\n",
    "from sklearn.naive_bayes import MultinomialNB\n",
    "from sklearn.multiclass import OneVsRestClassifier\n",
    "from sklearn import metrics\n",
    "from sklearn.metrics import accuracy_score\n",
    "from pandas.plotting import scatter_matrix\n",
    "from sklearn.neighbors import KNeighborsClassifier\n",
    "from sklearn import metrics\n",
    "import re"
   ]
  },
  {
   "cell_type": "code",
   "execution_count": 7,
   "metadata": {},
   "outputs": [],
   "source": [
    "def cleanResume(resumeText):\n",
    "    resumeText = re.sub('http\\S+\\s*', ' ', resumeText)  # remove URLs\n",
    "    resumeText = re.sub('RT|cc', ' ', resumeText)  # remove RT and cc\n",
    "    resumeText = re.sub('#\\S+', '', resumeText)  # remove hashtags\n",
    "    resumeText = re.sub('@\\S+', '  ', resumeText)  # remove mentions\n",
    "    resumeText = re.sub('[%s]' % re.escape(\"\"\"!\"#$%&'()*+,-./:;<=>?@[\\]^_`{|}~\"\"\"), ' ', resumeText)  # remove punctuations\n",
    "    resumeText = re.sub(r'[^\\x00-\\x7f]',r' ', resumeText) \n",
    "    resumeText = re.sub('\\s+', ' ', resumeText)  # remove extra whitespace\n",
    "    return resumeText"
   ]
  },
  {
   "cell_type": "code",
   "execution_count": 8,
   "metadata": {},
   "outputs": [
    {
     "name": "stdout",
     "output_type": "stream",
     "text": [
      " AMZ Loans and Mortgages ERC Analytics Jun 2019 to till date Handling data of employees and finding retention factors and employee satisfaction Worked Closely with the HR team to find a balance that was beneficial for both employees and the Company B Tech B E Electronics Telecommunication from Nagpur University in 2019 WORK EXPERIENCE EDUCATION MASON QUADRADO ASSOCIATE ANALYST Certified Data analyst with a degree in Electronics Engineering I have hands on experience in analyzing interpreting data with good numerical a uracy Python Machine Learning MySQL Data Mining Deep Learning Data Analysis Computer Vision Flask API Predictive Modeling AWS Scikit Learn Numpy Statistical Analysis Multivariate Analysis Decision Trees Random Forest Xgboost NLP ABOUT SKILLS Deep Learning based pattern matching Auto Color Grading using Python Google Cloud Certified PROJECT OTHER QUALIFICATION\n"
     ]
    }
   ],
   "source": [
    "df['cleaned_resume'] = df.resume.apply(lambda x: cleanResume(x))\n",
    "print (df['cleaned_resume'][2])"
   ]
  },
  {
   "cell_type": "code",
   "execution_count": 9,
   "metadata": {},
   "outputs": [],
   "source": [
    "train = pd.read_csv(\"train.csv\")\n",
    "train.set_index('CandidateID',inplace=True)\n",
    "df.set_index(\"CandidateID\",inplace=True)"
   ]
  },
  {
   "cell_type": "code",
   "execution_count": 10,
   "metadata": {},
   "outputs": [
    {
     "data": {
      "text/html": [
       "<div>\n",
       "<style scoped>\n",
       "    .dataframe tbody tr th:only-of-type {\n",
       "        vertical-align: middle;\n",
       "    }\n",
       "\n",
       "    .dataframe tbody tr th {\n",
       "        vertical-align: top;\n",
       "    }\n",
       "\n",
       "    .dataframe thead th {\n",
       "        text-align: right;\n",
       "    }\n",
       "</style>\n",
       "<table border=\"1\" class=\"dataframe\">\n",
       "  <thead>\n",
       "    <tr style=\"text-align: right;\">\n",
       "      <th></th>\n",
       "      <th>resume</th>\n",
       "      <th>cleaned_resume</th>\n",
       "    </tr>\n",
       "    <tr>\n",
       "      <th>CandidateID</th>\n",
       "      <th></th>\n",
       "      <th></th>\n",
       "    </tr>\n",
       "  </thead>\n",
       "  <tbody>\n",
       "    <tr>\n",
       "      <th>candidate_000</th>\n",
       "      <td>JACOB SMITH F R E S H E R  SKILLS  Python, S...</td>\n",
       "      <td>JACOB SMITH F R E S H E R SKILLS Python SQL M...</td>\n",
       "    </tr>\n",
       "    <tr>\n",
       "      <th>candidate_001</th>\n",
       "      <td>Brianna Williams J U N I O R  D E V E L O P ...</td>\n",
       "      <td>Brianna Williams J U N I O R D E V E L O P E ...</td>\n",
       "    </tr>\n",
       "    <tr>\n",
       "      <th>candidate_002</th>\n",
       "      <td>AMZ Loans and Mortgages ERC Analytics, Jun 2...</td>\n",
       "      <td>AMZ Loans and Mortgages ERC Analytics Jun 201...</td>\n",
       "    </tr>\n",
       "    <tr>\n",
       "      <th>candidate_003</th>\n",
       "      <td>P R O F I L E  Extremely motivated to consta...</td>\n",
       "      <td>P R O F I L E Extremely motivated to constant...</td>\n",
       "    </tr>\n",
       "    <tr>\n",
       "      <th>candidate_006</th>\n",
       "      <td>JENNIFER ARMSTRONG  P R O F I L E Fresher Co...</td>\n",
       "      <td>JENNIFER ARMSTRONG P R O F I L E Fresher Comp...</td>\n",
       "    </tr>\n",
       "  </tbody>\n",
       "</table>\n",
       "</div>"
      ],
      "text/plain": [
       "                                                          resume  \\\n",
       "CandidateID                                                        \n",
       "candidate_000    JACOB SMITH F R E S H E R  SKILLS  Python, S...   \n",
       "candidate_001    Brianna Williams J U N I O R  D E V E L O P ...   \n",
       "candidate_002    AMZ Loans and Mortgages ERC Analytics, Jun 2...   \n",
       "candidate_003    P R O F I L E  Extremely motivated to consta...   \n",
       "candidate_006    JENNIFER ARMSTRONG  P R O F I L E Fresher Co...   \n",
       "\n",
       "                                                  cleaned_resume  \n",
       "CandidateID                                                       \n",
       "candidate_000   JACOB SMITH F R E S H E R SKILLS Python SQL M...  \n",
       "candidate_001   Brianna Williams J U N I O R D E V E L O P E ...  \n",
       "candidate_002   AMZ Loans and Mortgages ERC Analytics Jun 201...  \n",
       "candidate_003   P R O F I L E Extremely motivated to constant...  \n",
       "candidate_006   JENNIFER ARMSTRONG P R O F I L E Fresher Comp...  "
      ]
     },
     "execution_count": 10,
     "metadata": {},
     "output_type": "execute_result"
    }
   ],
   "source": [
    "df.head()"
   ]
  },
  {
   "cell_type": "code",
   "execution_count": 11,
   "metadata": {
    "scrolled": true
   },
   "outputs": [
    {
     "data": {
      "text/html": [
       "<div>\n",
       "<style scoped>\n",
       "    .dataframe tbody tr th:only-of-type {\n",
       "        vertical-align: middle;\n",
       "    }\n",
       "\n",
       "    .dataframe tbody tr th {\n",
       "        vertical-align: top;\n",
       "    }\n",
       "\n",
       "    .dataframe thead th {\n",
       "        text-align: right;\n",
       "    }\n",
       "</style>\n",
       "<table border=\"1\" class=\"dataframe\">\n",
       "  <thead>\n",
       "    <tr style=\"text-align: right;\">\n",
       "      <th></th>\n",
       "      <th>Match Percentage</th>\n",
       "      <th>resume</th>\n",
       "      <th>cleaned_resume</th>\n",
       "    </tr>\n",
       "    <tr>\n",
       "      <th>CandidateID</th>\n",
       "      <th></th>\n",
       "      <th></th>\n",
       "      <th></th>\n",
       "    </tr>\n",
       "  </thead>\n",
       "  <tbody>\n",
       "    <tr>\n",
       "      <th>candidate_011</th>\n",
       "      <td>13.60</td>\n",
       "      <td>L I A M  A N D R E W S FRESHER  WORK EXPERIE...</td>\n",
       "      <td>L I A M A N D R E W S FRESHER WORK EXPERIENCE...</td>\n",
       "    </tr>\n",
       "    <tr>\n",
       "      <th>candidate_113</th>\n",
       "      <td>36.63</td>\n",
       "      <td>Ellie Mackey F R E S H E R  I N T E R N  Exe...</td>\n",
       "      <td>Ellie Mackey F R E S H E R I N T E R N Execut...</td>\n",
       "    </tr>\n",
       "    <tr>\n",
       "      <th>candidate_123</th>\n",
       "      <td>54.93</td>\n",
       "      <td>Telco  Trainee Intern, May 2018 - Dec 2018  ...</td>\n",
       "      <td>Telco Trainee Intern May 2018 Dec 2018 Data H...</td>\n",
       "    </tr>\n",
       "    <tr>\n",
       "      <th>candidate_012</th>\n",
       "      <td>41.46</td>\n",
       "      <td>JIMMY GARTNER  D A  T  A   M  A  N  A  G  E ...</td>\n",
       "      <td>JIMMY GA NER D A T A M A N A G E R PROFESSION...</td>\n",
       "    </tr>\n",
       "    <tr>\n",
       "      <th>candidate_002</th>\n",
       "      <td>48.91</td>\n",
       "      <td>AMZ Loans and Mortgages ERC Analytics, Jun 2...</td>\n",
       "      <td>AMZ Loans and Mortgages ERC Analytics Jun 201...</td>\n",
       "    </tr>\n",
       "    <tr>\n",
       "      <th>...</th>\n",
       "      <td>...</td>\n",
       "      <td>...</td>\n",
       "      <td>...</td>\n",
       "    </tr>\n",
       "    <tr>\n",
       "      <th>candidate_133</th>\n",
       "      <td>54.20</td>\n",
       "      <td>Drew Hall A S S O C I A T E  M A C H I N E  ...</td>\n",
       "      <td>Drew Hall A S S O C I A T E M A C H I N E L E...</td>\n",
       "    </tr>\n",
       "    <tr>\n",
       "      <th>candidate_137</th>\n",
       "      <td>60.18</td>\n",
       "      <td>SHAWN BUFFET  D A T A  P R O C E S S I N G  ...</td>\n",
       "      <td>SHAWN BUFFET D A T A P R O C E S S I N G I N ...</td>\n",
       "    </tr>\n",
       "    <tr>\n",
       "      <th>candidate_072</th>\n",
       "      <td>44.94</td>\n",
       "      <td>N A D I Y A  A H M A D DATA ANALYST  WORK EX...</td>\n",
       "      <td>N A D I Y A A H M A D DATA ANALYST WORK EXPER...</td>\n",
       "    </tr>\n",
       "    <tr>\n",
       "      <th>candidate_140</th>\n",
       "      <td>11.41</td>\n",
       "      <td>Stella Thatcher A S S O C I A T E  M A R K E...</td>\n",
       "      <td>Stella Thatcher A S S O C I A T E M A R K E T...</td>\n",
       "    </tr>\n",
       "    <tr>\n",
       "      <th>candidate_037</th>\n",
       "      <td>56.70</td>\n",
       "      <td>N A O M I  J A C K S O N   JUNIOR SDE-MACHIN...</td>\n",
       "      <td>N A O M I J A C K S O N JUNIOR SDE MACHINE LE...</td>\n",
       "    </tr>\n",
       "  </tbody>\n",
       "</table>\n",
       "<p>90 rows × 3 columns</p>\n",
       "</div>"
      ],
      "text/plain": [
       "               Match Percentage  \\\n",
       "CandidateID                       \n",
       "candidate_011             13.60   \n",
       "candidate_113             36.63   \n",
       "candidate_123             54.93   \n",
       "candidate_012             41.46   \n",
       "candidate_002             48.91   \n",
       "...                         ...   \n",
       "candidate_133             54.20   \n",
       "candidate_137             60.18   \n",
       "candidate_072             44.94   \n",
       "candidate_140             11.41   \n",
       "candidate_037             56.70   \n",
       "\n",
       "                                                          resume  \\\n",
       "CandidateID                                                        \n",
       "candidate_011    L I A M  A N D R E W S FRESHER  WORK EXPERIE...   \n",
       "candidate_113    Ellie Mackey F R E S H E R  I N T E R N  Exe...   \n",
       "candidate_123    Telco  Trainee Intern, May 2018 - Dec 2018  ...   \n",
       "candidate_012    JIMMY GARTNER  D A  T  A   M  A  N  A  G  E ...   \n",
       "candidate_002    AMZ Loans and Mortgages ERC Analytics, Jun 2...   \n",
       "...                                                          ...   \n",
       "candidate_133    Drew Hall A S S O C I A T E  M A C H I N E  ...   \n",
       "candidate_137    SHAWN BUFFET  D A T A  P R O C E S S I N G  ...   \n",
       "candidate_072    N A D I Y A  A H M A D DATA ANALYST  WORK EX...   \n",
       "candidate_140    Stella Thatcher A S S O C I A T E  M A R K E...   \n",
       "candidate_037    N A O M I  J A C K S O N   JUNIOR SDE-MACHIN...   \n",
       "\n",
       "                                                  cleaned_resume  \n",
       "CandidateID                                                       \n",
       "candidate_011   L I A M A N D R E W S FRESHER WORK EXPERIENCE...  \n",
       "candidate_113   Ellie Mackey F R E S H E R I N T E R N Execut...  \n",
       "candidate_123   Telco Trainee Intern May 2018 Dec 2018 Data H...  \n",
       "candidate_012   JIMMY GA NER D A T A M A N A G E R PROFESSION...  \n",
       "candidate_002   AMZ Loans and Mortgages ERC Analytics Jun 201...  \n",
       "...                                                          ...  \n",
       "candidate_133   Drew Hall A S S O C I A T E M A C H I N E L E...  \n",
       "candidate_137   SHAWN BUFFET D A T A P R O C E S S I N G I N ...  \n",
       "candidate_072   N A D I Y A A H M A D DATA ANALYST WORK EXPER...  \n",
       "candidate_140   Stella Thatcher A S S O C I A T E M A R K E T...  \n",
       "candidate_037   N A O M I J A C K S O N JUNIOR SDE MACHINE LE...  \n",
       "\n",
       "[90 rows x 3 columns]"
      ]
     },
     "execution_count": 11,
     "metadata": {},
     "output_type": "execute_result"
    }
   ],
   "source": [
    "train = train.join(df)\n",
    "train"
   ]
  },
  {
   "cell_type": "code",
   "execution_count": 12,
   "metadata": {
    "scrolled": true
   },
   "outputs": [
    {
     "name": "stdout",
     "output_type": "stream",
     "text": [
      "[('E', 422), ('I', 379), ('Data', 260), ('A', 255), ('R', 227), ('S', 208), ('N', 207), ('Learning', 204), ('T', 188), ('Machine', 162), ('C', 158), ('O', 138), ('L', 136), ('data', 129), ('2019', 111), ('Python', 105), ('Analysis', 105), ('P', 104), ('D', 99), ('B', 90), ('2020', 86), ('Tech', 68), ('using', 60), ('learning', 59), ('Analytics', 59), ('Deep', 58), ('SKILLS', 53), ('based', 52), ('U', 50), ('Science', 49), ('F', 45), ('Business', 45), ('M', 44), ('G', 43), ('V', 43), ('Processing', 42), ('University', 42), ('Analyst', 41), ('WORK', 39), ('Engineer', 39), ('J', 39), ('PROFILE', 38), ('PROJECTS', 37), ('H', 37), ('Natural', 37), ('models', 35), ('NLP', 34), ('SQL', 33), ('Software', 33), ('Language', 32)]\n"
     ]
    }
   ],
   "source": [
    "\n",
    "import nltk\n",
    "from nltk.corpus import stopwords\n",
    "import string\n",
    "from wordcloud import WordCloud\n",
    "\n",
    "oneSetOfStopWords = set(stopwords.words('english')+['``',\"''\"])\n",
    "totalWords =[]\n",
    "Sentences = train['resume'].values\n",
    "cleanedSentences = \"\"\n",
    "for i in range(0,90):\n",
    "    cleanedText = cleanResume(Sentences[i])\n",
    "    cleanedSentences += cleanedText\n",
    "    requiredWords = nltk.word_tokenize(cleanedText)\n",
    "    for word in requiredWords:\n",
    "        if word not in oneSetOfStopWords and word not in string.punctuation:\n",
    "            totalWords.append(word)\n",
    "    \n",
    "wordfreqdist = nltk.FreqDist(totalWords)\n",
    "mostcommon = wordfreqdist.most_common(50)\n",
    "print(mostcommon)\n",
    "wc = WordCloud().generate(cleanedSentences)"
   ]
  },
  {
   "cell_type": "code",
   "execution_count": 13,
   "metadata": {},
   "outputs": [],
   "source": [
    "train.drop(columns=['resume'],inplace=True)"
   ]
  },
  {
   "cell_type": "code",
   "execution_count": 14,
   "metadata": {},
   "outputs": [],
   "source": [
    "from sklearn.feature_extraction.text import TfidfVectorizer"
   ]
  },
  {
   "cell_type": "code",
   "execution_count": 15,
   "metadata": {},
   "outputs": [],
   "source": [
    "test = pd.read_csv('cleaned_test.csv')\n",
    "test_feature = test['cleaned_resume']"
   ]
  },
  {
   "cell_type": "code",
   "execution_count": 16,
   "metadata": {},
   "outputs": [],
   "source": [
    "feature = train.cleaned_resume\n",
    "vectorizer = TfidfVectorizer()\n",
    "v_feature = vectorizer.fit_transform(feature).toarray()\n",
    "test_feature = vectorizer.transform(test_feature).toarray()"
   ]
  },
  {
   "cell_type": "code",
   "execution_count": 17,
   "metadata": {},
   "outputs": [],
   "source": [
    "labels = []\n",
    "for i in train['Match Percentage']:\n",
    "    labels.append(i)"
   ]
  },
  {
   "cell_type": "code",
   "execution_count": 18,
   "metadata": {},
   "outputs": [],
   "source": [
    "labels = np.array(labels)"
   ]
  },
  {
   "cell_type": "code",
   "execution_count": 19,
   "metadata": {},
   "outputs": [],
   "source": [
    "labels = labels.reshape(-1,1)"
   ]
  },
  {
   "cell_type": "markdown",
   "metadata": {},
   "source": [
    "from sklearn.preprocessing import StandardScaler\n",
    "scaler = StandardScaler()\n",
    "scaler.fit(labels)\n",
    "s_labels = scaler.transform(labels)"
   ]
  },
  {
   "cell_type": "markdown",
   "metadata": {},
   "source": [
    "from sklearn.tree import DecisionTreeRegressor as DTC\n",
    "clf = DTC()\n",
    "clf.fit(v_feature,labels)\n",
    "print(clf.score(v_feature,labels))\n"
   ]
  },
  {
   "cell_type": "code",
   "execution_count": 40,
   "metadata": {},
   "outputs": [
    {
     "name": "stdout",
     "output_type": "stream",
     "text": [
      "0.8968086735873545\n"
     ]
    }
   ],
   "source": [
    "from sklearn.ensemble import RandomForestRegressor\n",
    "clf = RandomForestRegressor()\n",
    "clf.fit(v_feature,labels)\n",
    "print(clf.score(v_feature,labels))"
   ]
  },
  {
   "cell_type": "code",
   "execution_count": 41,
   "metadata": {},
   "outputs": [
    {
     "name": "stdout",
     "output_type": "stream",
     "text": [
      "Feature Ranking: \n",
      "1 feature no.490 (0.11836941758966019)\n",
      "2 feature no.272 (0.051209863922166185)\n",
      "3 feature no.1572 (0.043946431928653044)\n",
      "4 feature no.4 (0.041080515276880065)\n",
      "5 feature no.1169 (0.0358357866461849)\n",
      "6 feature no.1560 (0.03497942938672025)\n",
      "7 feature no.1216 (0.032766024063472204)\n",
      "8 feature no.1937 (0.02715058575964284)\n",
      "9 feature no.727 (0.024937613449711144)\n",
      "10 feature no.1831 (0.017795371871807523)\n"
     ]
    }
   ],
   "source": [
    "###for i in clf.feature_importances_:\n",
    "###   print(i)\n",
    "importances = clf.feature_importances_\n",
    "import numpy as np\n",
    "indices = np.argsort(importances)[::-1]\n",
    "print('Feature Ranking: ')\n",
    "for i in range(10):\n",
    "    print(\"{} feature no.{} ({})\".format(i+1,indices[i],importances[indices[i]]))"
   ]
  },
  {
   "cell_type": "code",
   "execution_count": 42,
   "metadata": {},
   "outputs": [
    {
     "data": {
      "text/plain": [
       "'data'"
      ]
     },
     "execution_count": 42,
     "metadata": {},
     "output_type": "execute_result"
    }
   ],
   "source": [
    "vectorizer.get_feature_names()[490]"
   ]
  },
  {
   "cell_type": "code",
   "execution_count": 43,
   "metadata": {},
   "outputs": [],
   "source": [
    "pred = clf.predict(test_feature)"
   ]
  },
  {
   "cell_type": "code",
   "execution_count": 44,
   "metadata": {},
   "outputs": [
    {
     "data": {
      "text/plain": [
       "array([29.7509, 39.7867, 37.8108, 38.3844, 35.3629, 42.689 , 44.4593,\n",
       "       48.0812, 33.4511, 43.1745, 34.1077, 45.287 , 33.6921, 35.4908,\n",
       "       50.1232, 27.687 , 38.0643, 44.0426, 42.4397, 37.8461, 38.1094,\n",
       "       37.4072, 40.6994, 28.1992, 33.9972, 34.0133, 35.2913, 38.6293,\n",
       "       47.0448, 43.8762, 44.2553, 40.147 , 40.4601, 36.0539, 36.1101,\n",
       "       37.449 , 42.74  , 35.7989, 35.7191, 31.7154, 33.9598, 48.084 ,\n",
       "       45.3629, 36.1338, 37.7881, 44.0074, 33.5409, 33.6249, 44.6731,\n",
       "       35.6287, 30.0424, 33.1594, 42.8323, 37.5456, 42.0339, 34.2109,\n",
       "       40.1859, 41.0334, 38.8592, 37.6809])"
      ]
     },
     "execution_count": 44,
     "metadata": {},
     "output_type": "execute_result"
    }
   ],
   "source": [
    "pred"
   ]
  },
  {
   "cell_type": "code",
   "execution_count": 45,
   "metadata": {},
   "outputs": [],
   "source": [
    "Id = test['CandidateID']"
   ]
  },
  {
   "cell_type": "code",
   "execution_count": 46,
   "metadata": {},
   "outputs": [],
   "source": [
    "data  ={'CandidateID':Id,'Match Percentage':pred}"
   ]
  },
  {
   "cell_type": "code",
   "execution_count": 47,
   "metadata": {},
   "outputs": [],
   "source": [
    "output = pd.DataFrame(data)"
   ]
  },
  {
   "cell_type": "code",
   "execution_count": 48,
   "metadata": {},
   "outputs": [],
   "source": [
    "output.to_csv(\"submission.csv\")"
   ]
  },
  {
   "cell_type": "code",
   "execution_count": null,
   "metadata": {},
   "outputs": [],
   "source": [
    "import"
   ]
  }
 ],
 "metadata": {
  "kernelspec": {
   "display_name": "Python 3",
   "language": "python",
   "name": "python3"
  },
  "language_info": {
   "codemirror_mode": {
    "name": "ipython",
    "version": 3
   },
   "file_extension": ".py",
   "mimetype": "text/x-python",
   "name": "python",
   "nbconvert_exporter": "python",
   "pygments_lexer": "ipython3",
   "version": "3.7.6"
  }
 },
 "nbformat": 4,
 "nbformat_minor": 4
}
