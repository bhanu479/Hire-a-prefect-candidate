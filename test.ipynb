{
 "cells": [
  {
   "cell_type": "code",
   "execution_count": 3,
   "metadata": {},
   "outputs": [],
   "source": [
    "from tika import parser\n",
    "import os\n",
    "import pandas as pd\n",
    "data = pd.DataFrame(columns=['resume'])\n",
    "for dirname, _, filenames in os.walk('./trainResumes'):\n",
    "    for filename in filenames:\n",
    "            path = os.path.join(dirname, filename)\n",
    "            raw = parser.from_file(path)\n",
    "            data = data.append({'resume':\" \".join(raw['content'].strip().split('\\n')[1:])},ignore_index=True)"
   ]
  },
  {
   "cell_type": "code",
   "execution_count": null,
   "metadata": {},
   "outputs": [],
   "source": []
  },
  {
   "cell_type": "code",
   "execution_count": 4,
   "metadata": {},
   "outputs": [],
   "source": [
    "raw = parser.from_file('./trainResumes/candidate_000.pdf')"
   ]
  },
  {
   "cell_type": "code",
   "execution_count": 5,
   "metadata": {},
   "outputs": [],
   "source": [
    "x = \" \".join(raw['content'].strip().split('\\n')[1:])"
   ]
  },
  {
   "cell_type": "code",
   "execution_count": 6,
   "metadata": {},
   "outputs": [
    {
     "data": {
      "text/plain": [
       "'  JACOB SMITH F R E S H E R  SKILLS  Python, SQL, MySQL, Tableau, Power Bi, Pandas , Numpy, Matplotlib, Excel , Machine Learning, AWS(EMR,EC2,S3), Cloud, Hive(HQL), and Excel  EDUCATION  B. Tech, ECE VIT-AP University 2020  OTHER ACTIVITIES  Deep Learning Masters Machine Learning  PROJECTS  Music Genre Classification  Face, eye, smile recognition  PERSONAL PROFILE I am actively seeking opportunity as Data Analyst or Machine Learning Engineer.  My goal is to discover new business strategies and create an impact through data driven analytical decisions and leading the business to success.  WORK BACKGROUND  Experts Hub Intern, May 2019  I was part of a team that designed and developed a smart parking system based on Object Recognition.'"
      ]
     },
     "execution_count": 6,
     "metadata": {},
     "output_type": "execute_result"
    }
   ],
   "source": [
    "x"
   ]
  },
  {
   "cell_type": "code",
   "execution_count": 7,
   "metadata": {},
   "outputs": [],
   "source": [
    "import convertor"
   ]
  },
  {
   "cell_type": "code",
   "execution_count": 8,
   "metadata": {},
   "outputs": [
    {
     "data": {
      "text/plain": [
       "' JACOB SMITH F R E S H E R SKILLS Python SQL MySQL Tableau Power Bi Pandas Numpy Matplotlib Excel Machine Learning AWS EMR EC2 S3 Cloud Hive HQL and Excel EDUCATION B Tech ECE VIT AP University 2020 OTHER ACTIVITIES Deep Learning Masters Machine Learning PROJECTS Music Genre Classification Face eye smile recognition PERSONAL PROFILE I am actively seeking opportunity as Data Analyst or Machine Learning Engineer My goal is to discover new business strategies and create an impact through data driven analytical decisions and leading the business to su ess WORK BACKGROUND Experts Hub Intern May 2019 I was part of a team that designed and developed a smart parking system based on Object Recognition '"
      ]
     },
     "execution_count": 8,
     "metadata": {},
     "output_type": "execute_result"
    }
   ],
   "source": [
    "convertor.cleanResume(x)"
   ]
  },
  {
   "cell_type": "code",
   "execution_count": 11,
   "metadata": {},
   "outputs": [
    {
     "name": "stdout",
     "output_type": "stream",
     "text": [
      "[[0. 0. 0. ... 0. 0. 0.]]\n"
     ]
    }
   ],
   "source": [
    "print(convertor.data_corrector(x))"
   ]
  },
  {
   "cell_type": "code",
   "execution_count": null,
   "metadata": {},
   "outputs": [],
   "source": []
  }
 ],
 "metadata": {
  "interpreter": {
   "hash": "1b4718f32b71f765b7be67151b0ddf63f4286279cc10b3a2ad4a900a934b01ad"
  },
  "kernelspec": {
   "display_name": "Python 3",
   "language": "python",
   "name": "python3"
  },
  "language_info": {
   "codemirror_mode": {
    "name": "ipython",
    "version": 3
   },
   "file_extension": ".py",
   "mimetype": "text/x-python",
   "name": "python",
   "nbconvert_exporter": "python",
   "pygments_lexer": "ipython3",
   "version": "3.7.6"
  }
 },
 "nbformat": 4,
 "nbformat_minor": 2
}
